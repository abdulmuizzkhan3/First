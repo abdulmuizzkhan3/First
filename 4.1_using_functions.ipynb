{
 "cells": [
  {
   "cell_type": "code",
   "execution_count": 1,
   "metadata": {},
   "outputs": [],
   "source": [
    "##function's some bit of reusable code, we define a function using a def keyword, and then we call or invoke\n",
    "#the new keyword that we've got is def, d-e-f, which stands for start the definition of a function, define the function. \n",
    "#def is the keyword, it ends in a colon, just like lots of things that start an indented block\n",
    "#call it thing for now, and there's some optional parameters, inside parentheses. Right now, we have no parameters in this function.\n",
    "\n",
    "def things():\n",
    "    print(\"hello\")\n",
    "    print(\"fun\")\n",
    "\n"
   ]
  },
  {
   "cell_type": "code",
   "execution_count": 2,
   "metadata": {},
   "outputs": [
    {
     "name": "stdout",
     "output_type": "stream",
     "text": [
      "hello\n",
      "fun\n"
     ]
    }
   ],
   "source": [
    "things()"
   ]
  },
  {
   "cell_type": "code",
   "execution_count": 3,
   "metadata": {},
   "outputs": [
    {
     "name": "stdout",
     "output_type": "stream",
     "text": [
      "w\n",
      " \n"
     ]
    }
   ],
   "source": [
    "# Max and Min functions\n",
    "#for some reasons space is minimum value\n",
    "\n",
    "\n",
    "big=max('hello world')\n",
    "print(big)\n",
    "\n",
    "tiny=min('hello world')\n",
    "print(tiny)"
   ]
  },
  {
   "cell_type": "code",
   "execution_count": null,
   "metadata": {},
   "outputs": [],
   "source": []
  }
 ],
 "metadata": {
  "kernelspec": {
   "display_name": "Python 3",
   "language": "python",
   "name": "python3"
  },
  "language_info": {
   "codemirror_mode": {
    "name": "ipython",
    "version": 3
   },
   "file_extension": ".py",
   "mimetype": "text/x-python",
   "name": "python",
   "nbconvert_exporter": "python",
   "pygments_lexer": "ipython3",
   "version": "3.6.8"
  }
 },
 "nbformat": 4,
 "nbformat_minor": 2
}
