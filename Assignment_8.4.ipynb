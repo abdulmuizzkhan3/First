{
 "cells": [
  {
   "cell_type": "code",
   "execution_count": 51,
   "metadata": {},
   "outputs": [
    {
     "name": "stdout",
     "output_type": "stream",
     "text": [
      "Please Enter a valid file nameromeo.txt\n",
      "['Arise', 'But', 'It', 'Juliet', 'Who', 'already', 'and', 'breaks', 'east', 'envious', 'fair', 'grief', 'is', 'kill', 'light', 'moon', 'pale', 'sick', 'soft', 'sun', 'the', 'through', 'what', 'window', 'with', 'yonder']\n"
     ]
    }
   ],
   "source": [
    "# 8.4 Open the file romeo.txt and read it line by line.\n",
    "# For each line, split the line into a list of words using the split() method. \n",
    "# The program should build a list of words. For each word on each line check to see if the word is already in the list\n",
    "# and if not append it to the list. When the program completes, sort and print the resulting words in alphabetical order.\n",
    "# You can download the sample data at http://www.py4e.com/code3/romeo.txt\n",
    "\n",
    "import  os \n",
    "os.chdir(r'C:\\Users\\Abdul Moiz\\Desktop')\n",
    "fname=input(\"Please Enter a valid file name\")\n",
    "fhand=open (fname)\n",
    "lst=list()\n",
    "second=list()\n",
    "for lines in fhand:\n",
    "    lines=lines.strip()\n",
    "    words=lines.split()\n",
    "    for word in words:\n",
    "        if word in lst:\n",
    "            continue\n",
    "        else:\n",
    "            lst.append(word)\n",
    "            lst.sort()\n",
    "        \n",
    "print(lst)"
   ]
  },
  {
   "cell_type": "code",
   "execution_count": 50,
   "metadata": {},
   "outputs": [
    {
     "name": "stdout",
     "output_type": "stream",
     "text": [
      "Please Enter a valid file nameromeo.txt\n",
      "['Arise', 'But', 'It', 'Juliet', 'Who', 'already', 'and', 'breaks', 'east', 'envious', 'fair', 'grief', 'is', 'kill', 'light', 'moon', 'pale', 'sick', 'soft', 'the', 'through', 'what', 'window', 'with', 'yonder']\n"
     ]
    }
   ],
   "source": [
    "# 8.4 Open the file romeo.txt and read it line by line.\n",
    "# For each line, split the line into a list of words using the split() method. \n",
    "# The program should build a list of words. For each word on each line check to see if the word is already in the list\n",
    "# and if not append it to the list. When the program completes, sort and print the resulting words in alphabetical order.\n",
    "# You can download the sample data at http://www.py4e.com/code3/romeo.txt\n",
    "\n",
    "import  os \n",
    "os.chdir(r'C:\\Users\\Abdul Moiz\\Desktop')\n",
    "fname=input(\"Please Enter a valid file name\")\n",
    "fhand=open (fname)\n",
    "lst=list()\n",
    "second=list()\n",
    "for lines in fhand:\n",
    "    lines=lines.strip()\n",
    "    words=lines.split()\n",
    "    for word in words:\n",
    "        if word in lst:\n",
    "            lst.remove(word)\n",
    "        else:\n",
    "            lst.append(word)\n",
    "            lst.sort()\n",
    "        \n",
    "print(lst)"
   ]
  }
 ],
 "metadata": {
  "kernelspec": {
   "display_name": "Python 3",
   "language": "python",
   "name": "python3"
  },
  "language_info": {
   "codemirror_mode": {
    "name": "ipython",
    "version": 3
   },
   "file_extension": ".py",
   "mimetype": "text/x-python",
   "name": "python",
   "nbconvert_exporter": "python",
   "pygments_lexer": "ipython3",
   "version": "3.6.8"
  }
 },
 "nbformat": 4,
 "nbformat_minor": 2
}
