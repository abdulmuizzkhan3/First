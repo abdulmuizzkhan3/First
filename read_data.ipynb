{
 "cells": [
  {
   "cell_type": "code",
   "execution_count": 16,
   "metadata": {},
   "outputs": [
    {
     "name": "stdout",
     "output_type": "stream",
     "text": [
      "          P      A  BED  BATH     City List  D1  D2  D3  D4  D5  D6\n",
      "0     16.00   57.0    2     2  Hyderabad-30   0   0   0   0   0   0\n",
      "1     32.00  108.0    2     2  Hyderabad-30   0   0   0   0   0   0\n",
      "2     32.00  108.0    2     2  Hyderabad-30   0   0   0   0   0   0\n",
      "3     32.00  108.0    2     2  Hyderabad-30   0   0   0   0   0   0\n",
      "4     32.00  108.0    2     2  Hyderabad-30   0   0   0   0   0   0\n",
      "5     22.00   77.0    2     2  Hyderabad-30   0   0   0   0   0   0\n",
      "6     18.00   63.0    2     2  Hyderabad-30   0   0   0   0   0   0\n",
      "7     32.00  108.0    2     2  Hyderabad-30   0   0   0   0   0   0\n",
      "8     26.50   91.0    2     2  Hyderabad-30   0   0   0   0   0   0\n",
      "9     26.50   91.0    2     2  Hyderabad-30   0   0   0   0   0   0\n",
      "10    26.50   91.0    2     2  Hyderabad-30   0   0   0   0   0   0\n",
      "11    32.50  114.0    3     3  Hyderabad-30   0   0   0   0   0   0\n",
      "12    26.00   89.0    2     2  Hyderabad-30   0   0   0   0   0   0\n",
      "13    22.00   77.0    2     2  Hyderabad-30   0   0   0   0   0   0\n",
      "14    32.50  114.0    3     3  Hyderabad-30   0   0   0   0   0   0\n",
      "15    31.00  100.0    3     3  Hyderabad-30   0   0   0   0   0   0\n",
      "16    30.00  104.0    2     2  Hyderabad-30   0   0   0   0   0   0\n",
      "17    35.00  156.0    2     2  Hyderabad-30   0   0   0   0   0   0\n",
      "18    23.00  133.0    2     2  Hyderabad-30   0   0   0   0   0   0\n",
      "19    25.00  133.0    2     2  Hyderabad-30   0   0   0   0   0   0\n",
      "20    13.00   40.0    1     1  Hyderabad-30   0   0   0   0   0   0\n",
      "21    25.00  106.0    2     2  Hyderabad-30   0   0   0   0   0   0\n",
      "22    23.00  106.0    2     2  Hyderabad-30   0   0   0   0   0   0\n",
      "23    26.00   89.0    2     2  Hyderabad-30   0   0   0   0   0   0\n",
      "24    32.00  120.0    2     2  Hyderabad-30   0   0   0   0   0   0\n",
      "25    25.00   89.0    2     2  Hyderabad-30   0   0   0   0   0   0\n",
      "26    35.00   91.0    3     3  Hyderabad-30   0   0   0   0   0   0\n",
      "27    22.00   61.0    1     1  Hyderabad-30   0   0   0   0   0   0\n",
      "28    22.00   61.0    1     1  Hyderabad-30   0   0   0   0   0   0\n",
      "29    22.00   61.0    1     1  Hyderabad-30   0   0   0   0   0   0\n",
      "...     ...    ...  ...   ...           ...  ..  ..  ..  ..  ..  ..\n",
      "4998  31.60  103.0    2     2     Sukkur-45   0   0   0   0   0   1\n",
      "4999  30.00   80.0    3     3     Sukkur-45   0   0   0   0   0   1\n",
      "5000  34.99  106.0    3     3     Sukkur-45   0   0   0   0   0   1\n",
      "5001  26.00   80.0    2     2     Sukkur-45   0   0   0   0   0   1\n",
      "5002  33.00  120.0    2     2     Sukkur-45   0   0   0   0   0   1\n",
      "5003  25.00   80.0    2     3     Sukkur-45   0   0   0   0   0   1\n",
      "5004  28.00   91.0    2     3     Sukkur-45   0   0   0   0   0   1\n",
      "5005  31.60  103.0    2     3     Sukkur-45   0   0   0   0   0   1\n",
      "5006  31.00   70.0    2     2     Sukkur-45   0   0   0   0   0   1\n",
      "5007  32.00  120.0    2     2     Sukkur-45   0   0   0   0   0   1\n",
      "5008  28.50  120.0    2     2     Sukkur-45   0   0   0   0   0   1\n",
      "5009  34.50  103.0    2     2     Sukkur-45   0   0   0   0   0   1\n",
      "5010  35.00  123.0    3     3     Sukkur-45   0   0   0   0   0   1\n",
      "5011  35.00  120.0    2     3     Sukkur-45   0   0   0   0   0   1\n",
      "5012  20.00   50.0    2     2     Sukkur-45   0   0   0   0   0   1\n",
      "5013  20.00   50.0    2     2     Sukkur-45   0   0   0   0   0   1\n",
      "5014  25.00   60.0    3     3     Sukkur-45   0   0   0   0   0   1\n",
      "5015  25.00   70.0    3     3     Sukkur-45   0   0   0   0   0   1\n",
      "5016  30.00   55.0    4     4     Sukkur-45   0   0   0   0   0   1\n",
      "5017  31.00   70.0    2     2     Sukkur-45   0   0   0   0   0   1\n",
      "5018  31.00   70.0    2     2     Sukkur-45   0   0   0   0   0   1\n",
      "5019  24.00   94.0    2     2     Sukkur-45   0   0   0   0   0   1\n",
      "5020  20.00   94.0    2     2     Sukkur-45   0   0   0   0   0   1\n",
      "5021  26.00  106.0    2     2     Sukkur-45   0   0   0   0   0   1\n",
      "5022  23.00  100.0    2     1     Sukkur-45   0   0   0   0   0   1\n",
      "5023  25.00   96.0    2     1     Sukkur-45   0   0   0   0   0   1\n",
      "5024  25.00   80.0    2     2     Sukkur-45   0   0   0   0   0   1\n",
      "5025  35.00   70.0    3     3     Sukkur-45   0   0   0   0   0   1\n",
      "5026  33.00  120.0    2     2     Sukkur-45   0   0   0   0   0   1\n",
      "5027  35.00   89.0    2     2     Sukkur-45   0   0   0   0   0   1\n",
      "\n",
      "[5028 rows x 11 columns]\n"
     ]
    },
    {
     "data": {
      "text/plain": [
       "[<matplotlib.lines.Line2D at 0x25de0c1ee10>]"
      ]
     },
     "execution_count": 16,
     "metadata": {},
     "output_type": "execute_result"
    },
    {
     "data": {
      "image/png": "[encoded data removed]",
      "text/plain": [
       "<Figure size 432x288 with 1 Axes>"
      ]
     },
     "metadata": {
      "needs_background": "light"
     },
     "output_type": "display_data"
    }
   ],
   "source": [
    "# book python for data analysis pg 169\n",
    "\n",
    "import pandas as pd\n",
    "import matplotlib.pyplot as pt\n",
    "df=pd.read_csv(\"D:TRELLIS RISK/Day 1/Zameen/Regression Data.csv\")\n",
    "#x=df[\"A\"]\n",
    "#y=df[\"P\"]\n",
    "#p=pt.scatter(x,y)\n",
    "#pt.xlabel(\"AREA\")\n",
    "#pt.ylabel(\"PRICE\")\n",
    "#o=pt.plot(x,y)\n",
    "print(df)\n",
    "pt.plot(df[\"P\"])"
   ]
  },
  {
   "cell_type": "code",
   "execution_count": 5,
   "metadata": {},
   "outputs": [],
   "source": [
    "import pandas as pd\n",
    "import matplotlib.pyplot as plt\n",
    "import numpy as np\n",
    "import pandas as pd\n",
    "import matplotlib.pyplot as plt\n",
    "import seaborn as sns\n",
    "sns.set(style=\"darkgrid\")\n",
    "\n",
    "df=pd.read_csv(\"D:TRELLIS RISK/Day 1/Zameen/Regression Data.csv\")"
   ]
  },
  {
   "cell_type": "code",
   "execution_count": 4,
   "metadata": {},
   "outputs": [
    {
     "data": {
      "image/png": "[encoded data removed]",
      "text/plain": [
       "<Figure size 432x288 with 1 Axes>"
      ]
     },
     "metadata": {
      "needs_background": "light"
     },
     "output_type": "display_data"
    }
   ],
   "source": [
    "# stacked bar chart\n",
    "import numpy as np\n",
    "import matplotlib.pyplot as plt\n",
    "\n",
    "\n",
    "labels = ['G1', 'G2', 'G3', 'G4', 'G5']\n",
    "men_means = [20, 35, 30, 35, 27]\n",
    "women_means = [25, 32, 34, 20, 25]\n",
    "men_std = [2, 3, 4, 1, 2]\n",
    "women_std = [3, 5, 2, 3, 3]\n",
    "width = 0.5    # the width of the bars: can also be len(x) sequence\n",
    "\n",
    "fig, ax = plt.subplots()\n",
    "\n",
    "ax.bar(labels, men_means, width, yerr=men_std, label='Men')\n",
    "ax.bar(labels, women_means, width, yerr=women_std, bottom=men_means,\n",
    "       label='Women')\n",
    "\n",
    "ax.set_ylabel('Scores')\n",
    "ax.set_title('Scores by group and gender')\n",
    "ax.legend()\n",
    "\n",
    "plt.show()"
   ]
  },
  {
   "cell_type": "code",
   "execution_count": 1,
   "metadata": {},
   "outputs": [
    {
     "name": "stdout",
     "output_type": "stream",
     "text": [
      "      t       cos       sin        xt\n",
      "0     1 -0.924472  0.381250 -0.705192\n",
      "1     2  0.709296 -0.704911 -0.696140\n",
      "2     3 -0.386977  0.922089  1.992315\n",
      "3     4  0.006202 -0.999981 -2.987538\n",
      "4     5  0.375510  0.926819  3.531475\n",
      "5     6 -0.700498 -0.713654 -3.541959\n",
      "6     7  0.919672  0.392688  3.017408\n",
      "7     8 -0.999923 -0.012404 -2.037057\n",
      "8     9  0.929130 -0.369754  0.748996\n",
      "9    10 -0.717985  0.696058  0.652205\n",
      "10   11  0.398384 -0.917219 -1.954887\n",
      "11   12 -0.018605  0.999827  2.962271\n",
      "12   13 -0.363985 -0.931405 -3.522184\n",
      "13   14  0.691592  0.722288  3.550049\n",
      "14   15 -0.914730 -0.404065 -3.041656\n",
      "15   16  0.999692  0.024806  2.073801\n",
      "16   17 -0.933644  0.358201 -0.792685\n",
      "17   18  0.726564 -0.687099 -0.608171\n",
      "18   19 -0.409731  0.912207  1.917159\n",
      "19   20  0.031005 -0.999519 -2.936547\n",
      "20   21  0.352404  0.935848  3.512352\n",
      "21   22 -0.682580 -0.730811 -3.557593\n",
      "22   23  0.909648  0.415380  3.065436\n",
      "23   24 -0.999308 -0.037204 -2.110226\n",
      "24   25  0.938016 -0.346593  0.836253\n",
      "25   26 -0.735030  0.678034  0.564042\n",
      "26   27  0.421014 -0.907054 -1.879135\n",
      "27   28 -0.043401  0.999058  2.910372\n",
      "28   29 -0.340769 -0.940147 -3.501979\n",
      "29   30  0.673463  0.739221  3.564589\n",
      "..  ...       ...       ...       ...\n",
      "70   71  0.876244  0.481868  3.198091\n",
      "71   72 -0.993775 -0.111405 -2.321764\n",
      "72   73  0.961190 -0.275887  1.094720\n",
      "73   74 -0.783411  0.621504  0.297689\n",
      "74   75  0.487293 -0.873239 -1.645130\n",
      "75   76 -0.117566  0.993065  2.744063\n",
      "76   77 -0.269920 -0.962883 -3.428488\n",
      "77   78  0.616633  0.787251  3.595018\n",
      "78   79 -0.870200 -0.492699 -3.218497\n",
      "79   80  0.992317  0.123723  2.355802\n",
      "80   81 -0.964538  0.263943 -1.137247\n",
      "81   82  0.791060 -0.611739 -0.253096\n",
      "82   83 -0.498087  0.867127  1.605208\n",
      "83   84  0.129875 -0.991530 -2.714842\n",
      "84   85  0.257956  0.966157  3.414382\n",
      "85   86 -0.606821 -0.794839 -3.598158\n",
      "86   87  0.864021  0.503455  3.238408\n",
      "87   88 -0.990706 -0.136022 -2.389477\n",
      "88   89  0.967738 -0.251959  1.179599\n",
      "89   90 -0.798587  0.601880  0.208465\n",
      "90   91  0.508804 -0.860882 -1.565038\n",
      "91   92 -0.142163  0.989843  2.685203\n",
      "92   93 -0.245952 -0.969282 -3.399750\n",
      "93   94  0.596915  0.802304  3.600743\n",
      "94   95 -0.857710 -0.514134 -3.257821\n",
      "95   96  0.988942  0.148300  2.422784\n",
      "96   97 -0.970789  0.239936 -1.221769\n",
      "97   98  0.805991 -0.591928 -0.163801\n",
      "98   99 -0.519443  0.854505  1.524628\n",
      "99  100  0.154430 -0.988004 -2.655151\n",
      "\n",
      "[100 rows x 4 columns]\n"
     ]
    }
   ],
   "source": [
    "import pandas as pd\n",
    "x=pd.read_excel(\"C:/Users/Abdul Moiz/Desktop/ts lab 4.xlsx\")\n",
    "print(x)"
   ]
  },
  {
   "cell_type": "code",
   "execution_count": 3,
   "metadata": {},
   "outputs": [
    {
     "name": "stdout",
     "output_type": "stream",
     "text": [
      "0\n",
      "1\n",
      "2\n",
      "3\n",
      "4\n",
      "5\n",
      "6\n",
      "7\n",
      "8\n",
      "9\n",
      "10\n",
      "11\n",
      "12\n",
      "13\n",
      "14\n",
      "15\n",
      "16\n",
      "17\n",
      "18\n",
      "19\n",
      "20\n"
     ]
    }
   ],
   "source": [
    "x=range(21)\n",
    "for n in x:\n",
    "    print(n)\n"
   ]
  },
  {
   "cell_type": "code",
   "execution_count": 14,
   "metadata": {},
   "outputs": [
    {
     "data": {
      "image/png": "[encoded data removed]",
      "text/plain": [
       "<Figure size 432x288 with 1 Axes>"
      ]
     },
     "metadata": {
      "needs_background": "light"
     },
     "output_type": "display_data"
    }
   ],
   "source": [
    "import matplotlib.pyplot as plt\n",
    "# 12 months in a year\n",
    "# List of 12 mortgage values that were paid for the year. \n",
    "# List of 12 utility values that were paid for the year.\n",
    "# List of 12 repair values that were paid for each month of the year.\n",
    "#  plt.plot() function. In these, we specify the color and the label for each constituent.\n",
    "months= [x for x in range(1,13)]\n",
    "mortgage= [700, 700, 700,800, 800, 800,850, 850, 850,850, 850, 850]\n",
    "utilities= [500, 300, 380,200, 600, 550,310, 620, 290,320, 440, 400]\n",
    "repairs= [100, 120, 100,150, 850, 80,120, 220, 240,50, 60, 150]\n",
    "\n",
    "plt.plot([],[], color='blue', label='mortgage')\n",
    "plt.plot([],[], color='orange', label='utilities')\n",
    "plt.plot([],[], color='brown', label='repairs')\n",
    "\n",
    "plt.stackplot(months, mortgage, utilities, repairs, colors=['blue', 'orange', 'brown'])\n",
    "\n",
    "plt.legend()\n",
    "\n",
    "plt.title('Household Expenses')\n",
    "plt.xlabel('Months of the year')\n",
    "plt.ylabel('Cost')\n",
    "\n",
    "plt.show()"
   ]
  },
  {
   "cell_type": "code",
   "execution_count": 16,
   "metadata": {},
   "outputs": [
    {
     "data": {
      "image/png": "[encoded data removed]",
      "text/plain": [
       "<Figure size 432x288 with 1 Axes>"
      ]
     },
     "metadata": {
      "needs_background": "light"
     },
     "output_type": "display_data"
    }
   ],
   "source": [
    "from matplotlib import pyplot as plt\n",
    "import numpy as np\n",
    "fig,ax = plt.subplots()\n",
    "a = np.array([22,87,5,43,56,73,55,54,11,20,51,5,79,31,27])\n",
    "ax.hist(a, bins = [0,25,50,75,100])\n",
    "ax.set_title(\"histogram of result\")\n",
    "ax.set_xticks([0,25,50,75,100])\n",
    "ax.set_xlabel('marks')\n",
    "ax.set_ylabel('no. of students')\n",
    "plt.show()"
   ]
  },
  {
   "cell_type": "code",
   "execution_count": 22,
   "metadata": {},
   "outputs": [
    {
     "data": {
      "text/plain": [
       "Text(0.5, 1.0, 'Simple plot')"
      ]
     },
     "execution_count": 22,
     "metadata": {},
     "output_type": "execute_result"
    },
    {
     "data": {
      "image/png": "[encoded data removed]",
      "text/plain": [
       "<Figure size 432x288 with 1 Axes>"
      ]
     },
     "metadata": {
      "needs_background": "light"
     },
     "output_type": "display_data"
    }
   ],
   "source": [
    "import numpy as np\n",
    "import matplotlib.pyplot as plt\n",
    "x = [100, 120, 100,150, 850, 80,120, 220, 240,50, 60, 150]\n",
    "y = [500, 300, 380,200, 600, 550,310, 620, 290,320, 440, 400]\n",
    "#Creates just a figure and only one subplot\n",
    "fig, ax = plt.subplots()\n",
    "ax.scatter(x, y)\n",
    "ax.set_title('Simple plot')"
   ]
  },
  {
   "cell_type": "code",
   "execution_count": 1,
   "metadata": {},
   "outputs": [
    {
     "data": {
      "text/plain": [
       "'C:\\\\Users\\\\Abdul Moiz\\\\Untitled Folder'"
      ]
     },
     "execution_count": 1,
     "metadata": {},
     "output_type": "execute_result"
    }
   ],
   "source": [
    "pwd"
   ]
  }
 ],
 "metadata": {
  "kernelspec": {
   "display_name": "Python 3",
   "language": "python",
   "name": "python3"
  },
  "language_info": {
   "codemirror_mode": {
    "name": "ipython",
    "version": 3
   },
   "file_extension": ".py",
   "mimetype": "text/x-python",
   "name": "python",
   "nbconvert_exporter": "python",
   "pygments_lexer": "ipython3",
   "version": "3.6.8"
  }
 },
 "nbformat": 4,
 "nbformat_minor": 2
}
