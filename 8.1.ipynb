{
 "cells": [
  {
   "cell_type": "code",
   "execution_count": 1,
   "metadata": {},
   "outputs": [
    {
     "name": "stdout",
     "output_type": "stream",
     "text": [
      "[2, 14, 26, 41, 63]\n",
      "[2, 14, 26, 28, 63]\n"
     ]
    }
   ],
   "source": [
    "# mutable = changable\n",
    "# lists are mutable\n",
    "\n",
    "lotto=[2,14,26,41,63]\n",
    "print(lotto)\n",
    "lotto[3]=28\n",
    "print(lotto)"
   ]
  },
  {
   "cell_type": "code",
   "execution_count": 3,
   "metadata": {},
   "outputs": [
    {
     "name": "stdout",
     "output_type": "stream",
     "text": [
      "range(0, 4)\n",
      "3\n",
      "range(0, 3)\n",
      "['joseph', 'glenn']\n"
     ]
    }
   ],
   "source": [
    "# Using the range() function\n",
    "# the range function returns the list\n",
    "\n",
    "x=range(4)\n",
    "print(x)\n",
    "\n",
    "\n",
    "friends=['joseph','glenn','sally']\n",
    "\n",
    "print(len(friends))\n",
    "print(range(len(friends)))\n",
    "friends.remove('sally')\n",
    "print(friends)"
   ]
  },
  {
   "cell_type": "code",
   "execution_count": 11,
   "metadata": {},
   "outputs": [
    {
     "name": "stdout",
     "output_type": "stream",
     "text": [
      "hello joseph\n",
      "hello glenn\n",
      "hello sally\n"
     ]
    }
   ],
   "source": [
    "# A Tale of two loops\n",
    "friends=['joseph','glenn','sally']\n",
    "for i in range(len(friends)):\n",
    "    friend=friends[i]\n",
    "    print('hello',friend)"
   ]
  }
 ],
 "metadata": {
  "kernelspec": {
   "display_name": "Python 3",
   "language": "python",
   "name": "python3"
  },
  "language_info": {
   "codemirror_mode": {
    "name": "ipython",
    "version": 3
   },
   "file_extension": ".py",
   "mimetype": "text/x-python",
   "name": "python",
   "nbconvert_exporter": "python",
   "pygments_lexer": "ipython3",
   "version": "3.6.8"
  }
 },
 "nbformat": 4,
 "nbformat_minor": 2
}
