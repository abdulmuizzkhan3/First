{
 "cells": [
  {
   "cell_type": "code",
   "execution_count": 1,
   "metadata": {},
   "outputs": [
    {
     "name": "stdout",
     "output_type": "stream",
     "text": [
      "Enter Hours:10\n",
      "Enter rate per hour:ten\n",
      "please enter a numeric value\n"
     ]
    }
   ],
   "source": [
    "#same work to avoid traceback error\n",
    "hrs = input(\"Enter Hours:\")\n",
    "rate=input(\"Enter rate per hour:\")\n",
    "\n",
    "try:\n",
    "    h= float(hrs)\n",
    "    r=float(rate)\n",
    "    if h>40:\n",
    "        h1=40\n",
    "        h2=h-h1\n",
    "        r1=r\n",
    "        r2=r*1.5\n",
    "        pay=h1*r1+h2*r2\n",
    "    else:\n",
    "        pay=h*r\n",
    "        print(pay)\n",
    "\n",
    "\n",
    "except:\n",
    "    print('please enter a numeric value')"
   ]
  },
  {
   "cell_type": "code",
   "execution_count": 2,
   "metadata": {},
   "outputs": [
    {
     "name": "stdout",
     "output_type": "stream",
     "text": [
      "Enter Hours:10\n",
      "Enter rate per hour:two\n",
      "enter a numeric value\n"
     ]
    },
    {
     "ename": "NameError",
     "evalue": "name 'r' is not defined",
     "output_type": "error",
     "traceback": [
      "\u001b[1;31m---------------------------------------------------------------------------\u001b[0m",
      "\u001b[1;31mNameError\u001b[0m                                 Traceback (most recent call last)",
      "\u001b[1;32m<ipython-input-2-12c43c7a5a2d>\u001b[0m in \u001b[0;36m<module>\u001b[1;34m\u001b[0m\n\u001b[0;32m      8\u001b[0m     \u001b[0mquit\u001b[0m\u001b[1;33m(\u001b[0m\u001b[1;33m)\u001b[0m\u001b[1;33m\u001b[0m\u001b[1;33m\u001b[0m\u001b[0m\n\u001b[0;32m      9\u001b[0m \u001b[1;33m\u001b[0m\u001b[0m\n\u001b[1;32m---> 10\u001b[1;33m \u001b[0mprint\u001b[0m\u001b[1;33m(\u001b[0m\u001b[0mh\u001b[0m\u001b[1;33m,\u001b[0m\u001b[0mr\u001b[0m\u001b[1;33m)\u001b[0m\u001b[1;33m\u001b[0m\u001b[1;33m\u001b[0m\u001b[0m\n\u001b[0m\u001b[0;32m     11\u001b[0m \u001b[1;33m\u001b[0m\u001b[0m\n\u001b[0;32m     12\u001b[0m \u001b[1;33m\u001b[0m\u001b[0m\n",
      "\u001b[1;31mNameError\u001b[0m: name 'r' is not defined"
     ]
    }
   ],
   "source": [
    "# quit command doesn't word on jupyter but the same code run without an error in cmd.\n",
    "\n",
    "hrs = input(\"Enter Hours:\")\n",
    "rate=input(\"Enter rate per hour:\")\n",
    "try:\n",
    "    h= float(hrs)\n",
    "    r=float(rate)\n",
    "except:\n",
    "    print('enter a numeric value')\n",
    "    quit()\n",
    "\n",
    "print(h,r)\n",
    "\n",
    "\n",
    "if h<=40:\n",
    "    pay=h*r\n",
    "    \n",
    "elif h>40:\n",
    "    h1=40\n",
    "    h2=h-h1\n",
    "    r1=r\n",
    "    r2=r*1.5\n",
    "    pay=h1*r1+h2*r2\n",
    "print(pay)"
   ]
  }
 ],
 "metadata": {
  "kernelspec": {
   "display_name": "Python 3",
   "language": "python",
   "name": "python3"
  },
  "language_info": {
   "codemirror_mode": {
    "name": "ipython",
    "version": 3
   },
   "file_extension": ".py",
   "mimetype": "text/x-python",
   "name": "python",
   "nbconvert_exporter": "python",
   "pygments_lexer": "ipython3",
   "version": "3.6.8"
  }
 },
 "nbformat": 4,
 "nbformat_minor": 2
}
