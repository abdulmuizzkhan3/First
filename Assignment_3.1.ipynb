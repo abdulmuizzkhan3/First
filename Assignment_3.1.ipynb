{
 "cells": [
  {
   "cell_type": "code",
   "execution_count": 1,
   "metadata": {},
   "outputs": [
    {
     "name": "stdout",
     "output_type": "stream",
     "text": [
      "Enter Hours:45\n",
      "Enter rate per hour:10.5\n",
      "498.75\n"
     ]
    }
   ],
   "source": [
    "hrs = input(\"Enter Hours:\")\n",
    "rate=input(\"Enter rate per hour:\")\n",
    "\n",
    "h= float(hrs)\n",
    "r=float(rate)\n",
    "\n",
    "if h<=40:\n",
    "    pay=h*r\n",
    "    \n",
    "elif h>40:\n",
    "    h1=40\n",
    "    h2=h-h1\n",
    "    r1=r\n",
    "    r2=r*1.5\n",
    "    pay=h1*r1+h2*r2\n",
    "print(pay)"
   ]
  }
 ],
 "metadata": {
  "kernelspec": {
   "display_name": "Python 3",
   "language": "python",
   "name": "python3"
  },
  "language_info": {
   "codemirror_mode": {
    "name": "ipython",
    "version": 3
   },
   "file_extension": ".py",
   "mimetype": "text/x-python",
   "name": "python",
   "nbconvert_exporter": "python",
   "pygments_lexer": "ipython3",
   "version": "3.6.8"
  }
 },
 "nbformat": 4,
 "nbformat_minor": 2
}
