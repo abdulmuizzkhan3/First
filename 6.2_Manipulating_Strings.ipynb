{
 "cells": [
  {
   "cell_type": "code",
   "execution_count": 2,
   "metadata": {},
   "outputs": [
    {
     "name": "stdout",
     "output_type": "stream",
     "text": [
      "hellothere\n"
     ]
    }
   ],
   "source": [
    "# string concatenation\n",
    "# + operators is applied to concatenate the strings\n",
    "a='hello'\n",
    "b=a+'there'\n",
    "print(b)\n"
   ]
  },
  {
   "cell_type": "code",
   "execution_count": 5,
   "metadata": {},
   "outputs": [
    {
     "name": "stdout",
     "output_type": "stream",
     "text": [
      "True\n",
      "False\n",
      "True\n"
     ]
    }
   ],
   "source": [
    "# using in as a logical operator\n",
    "# the in operator is a logical expression that returns true or false\n",
    "fruit = 'banana'\n",
    "print('n'in  fruit)\n",
    "print('m' in fruit)\n",
    "print('nan' in fruit)"
   ]
  },
  {
   "cell_type": "code",
   "execution_count": 5,
   "metadata": {},
   "outputs": [
    {
     "name": "stdout",
     "output_type": "stream",
     "text": [
      "your word,abdul,comes before banana.\n"
     ]
    }
   ],
   "source": [
    "# string comparison\n",
    "# uppercase letter is less than lowercase letter\n",
    "\n",
    "word='abdul'\n",
    "#if word=='banana':\n",
    " #   print('all right, bananas.')\n",
    "if word < 'banana':\n",
    "    print('your word,'+word+',comes before banana.')\n",
    "elif word > 'banana':\n",
    "    print('your word,'+ word+ ',comes after banana.')\n",
    "else:\n",
    "    print('all right, bananas.')"
   ]
  },
  {
   "cell_type": "code",
   "execution_count": 6,
   "metadata": {},
   "outputs": [
    {
     "data": {
      "text/plain": [
       "['__add__',\n",
       " '__class__',\n",
       " '__contains__',\n",
       " '__delattr__',\n",
       " '__dir__',\n",
       " '__doc__',\n",
       " '__eq__',\n",
       " '__format__',\n",
       " '__ge__',\n",
       " '__getattribute__',\n",
       " '__getitem__',\n",
       " '__getnewargs__',\n",
       " '__gt__',\n",
       " '__hash__',\n",
       " '__init__',\n",
       " '__init_subclass__',\n",
       " '__iter__',\n",
       " '__le__',\n",
       " '__len__',\n",
       " '__lt__',\n",
       " '__mod__',\n",
       " '__mul__',\n",
       " '__ne__',\n",
       " '__new__',\n",
       " '__reduce__',\n",
       " '__reduce_ex__',\n",
       " '__repr__',\n",
       " '__rmod__',\n",
       " '__rmul__',\n",
       " '__setattr__',\n",
       " '__sizeof__',\n",
       " '__str__',\n",
       " '__subclasshook__',\n",
       " 'capitalize',\n",
       " 'casefold',\n",
       " 'center',\n",
       " 'count',\n",
       " 'encode',\n",
       " 'endswith',\n",
       " 'expandtabs',\n",
       " 'find',\n",
       " 'format',\n",
       " 'format_map',\n",
       " 'index',\n",
       " 'isalnum',\n",
       " 'isalpha',\n",
       " 'isdecimal',\n",
       " 'isdigit',\n",
       " 'isidentifier',\n",
       " 'islower',\n",
       " 'isnumeric',\n",
       " 'isprintable',\n",
       " 'isspace',\n",
       " 'istitle',\n",
       " 'isupper',\n",
       " 'join',\n",
       " 'ljust',\n",
       " 'lower',\n",
       " 'lstrip',\n",
       " 'maketrans',\n",
       " 'partition',\n",
       " 'replace',\n",
       " 'rfind',\n",
       " 'rindex',\n",
       " 'rjust',\n",
       " 'rpartition',\n",
       " 'rsplit',\n",
       " 'rstrip',\n",
       " 'split',\n",
       " 'splitlines',\n",
       " 'startswith',\n",
       " 'strip',\n",
       " 'swapcase',\n",
       " 'title',\n",
       " 'translate',\n",
       " 'upper',\n",
       " 'zfill']"
      ]
     },
     "execution_count": 6,
     "metadata": {},
     "output_type": "execute_result"
    }
   ],
   "source": [
    "# dir says what strings are capable of?\n",
    "stuff='hello world'\n",
    "#type(stuff)\n",
    "dir(stuff)"
   ]
  },
  {
   "cell_type": "code",
   "execution_count": 15,
   "metadata": {},
   "outputs": [
    {
     "data": {
      "text/plain": [
       "108"
      ]
     },
     "execution_count": 15,
     "metadata": {},
     "output_type": "execute_result"
    }
   ],
   "source": [
    "# to find ASCII value of character\n",
    "word='abdul'\n",
    "ord('l')"
   ]
  },
  {
   "cell_type": "code",
   "execution_count": 16,
   "metadata": {},
   "outputs": [
    {
     "name": "stdout",
     "output_type": "stream",
     "text": [
      "2\n",
      "-1\n"
     ]
    }
   ],
   "source": [
    "# searching a string\n",
    "# we use find() function to search for the substring within another string\n",
    "# -1 indicates that 'did not  find it'\n",
    "\n",
    "fruit='banana'\n",
    "pos=fruit.find('na')\n",
    "print(pos)\n",
    "\n",
    "aa=fruit.find('r')\n",
    "print(aa)"
   ]
  },
  {
   "cell_type": "code",
   "execution_count": 1,
   "metadata": {},
   "outputs": [
    {
     "name": "stdout",
     "output_type": "stream",
     "text": [
      "hello jane\n",
      "hellx bxb\n"
     ]
    }
   ],
   "source": [
    "# replace()\n",
    "# it replaces all occurances of the search string with the replacement string\n",
    "\n",
    "greet='hello bob'\n",
    "nstr=greet.replace('bob','jane')\n",
    "print(nstr)\n",
    "\n",
    "w=greet.replace('o','x')\n",
    "print(w)"
   ]
  },
  {
   "cell_type": "code",
   "execution_count": 2,
   "metadata": {},
   "outputs": [
    {
     "name": "stdout",
     "output_type": "stream",
     "text": [
      "hello bob        \n",
      "     hello bob\n",
      "hello bob\n"
     ]
    }
   ],
   "source": [
    "# stripping whitespace\n",
    "# lstrip() remove whitespace at left\n",
    "# rstrip() removes whitespace at right\n",
    "# strip() removes both beginning and ending whitespace\n",
    "\n",
    "greet='     hello bob        '\n",
    "\n",
    "n=greet.lstrip()\n",
    "print(n)\n",
    "\n",
    "m=greet.rstrip()\n",
    "print(m)\n",
    "\n",
    "\n",
    "o=greet.strip()\n",
    "print(o)"
   ]
  },
  {
   "cell_type": "code",
   "execution_count": 3,
   "metadata": {},
   "outputs": [
    {
     "data": {
      "text/plain": [
       "True"
      ]
     },
     "execution_count": 3,
     "metadata": {},
     "output_type": "execute_result"
    }
   ],
   "source": [
    "# prefixes\n",
    "#  it's a real common problem to be scanning through a file and want to know only the lines that start with a prefix.\n",
    "# And there is a built-in method called startswith, line.startswith().\n",
    "#This takes a parameter, what prefix we're looking for. And in this case, we get True back because it does start with Please.\n",
    "# Does it start with a lowercase p? And then we get back a False because, no, it doesn't start with a lowercase p.\n",
    "# So, it is a True/False. \n",
    "lines= 'Please have a nice day.'\n",
    "lines.startswith('Please')"
   ]
  },
  {
   "cell_type": "code",
   "execution_count": 4,
   "metadata": {},
   "outputs": [
    {
     "data": {
      "text/plain": [
       "False"
      ]
     },
     "execution_count": 4,
     "metadata": {},
     "output_type": "execute_result"
    }
   ],
   "source": [
    "lines= 'Please have a nice day.'\n",
    "lines.startswith('p')"
   ]
  },
  {
   "cell_type": "code",
   "execution_count": 6,
   "metadata": {},
   "outputs": [
    {
     "name": "stdout",
     "output_type": "stream",
     "text": [
      "21\n",
      "31\n",
      "uct.ac.za\n"
     ]
    }
   ],
   "source": [
    "# .find() is used to represents the position of the particular string/character\n",
    "\n",
    "data='From stephen.marquard@uct.ac.za Sat Jan 5 09:14:16 2008'\n",
    "atpos=data.find('@')\n",
    "print(atpos)\n",
    "\n",
    "\n",
    "sppos=data.find(' ',atpos)\n",
    "print(sppos)\n",
    "\n",
    "host=data[atpos+1 : sppos]\n",
    "print(host)\n"
   ]
  },
  {
   "cell_type": "code",
   "execution_count": 7,
   "metadata": {},
   "outputs": [
    {
     "name": "stdout",
     "output_type": "stream",
     "text": [
      "hellothere\n"
     ]
    }
   ],
   "source": [
    "str1=\"hello\"\n",
    "str2='there'\n",
    "bob= str1+str2\n",
    "print(bob)"
   ]
  }
 ],
 "metadata": {
  "kernelspec": {
   "display_name": "Python 3",
   "language": "python",
   "name": "python3"
  },
  "language_info": {
   "codemirror_mode": {
    "name": "ipython",
    "version": 3
   },
   "file_extension": ".py",
   "mimetype": "text/x-python",
   "name": "python",
   "nbconvert_exporter": "python",
   "pygments_lexer": "ipython3",
   "version": "3.6.8"
  }
 },
 "nbformat": 4,
 "nbformat_minor": 2
}
