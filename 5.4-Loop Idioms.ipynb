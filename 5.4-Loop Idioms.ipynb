{
 "cells": [
  {
   "cell_type": "code",
   "execution_count": 1,
   "metadata": {},
   "outputs": [
    {
     "name": "stdout",
     "output_type": "stream",
     "text": [
      "before 0\n",
      "1 9\n",
      "2 41\n",
      "3 12\n",
      "4 3\n",
      "5 74\n",
      "6 15\n",
      "after 6\n"
     ]
    }
   ],
   "source": [
    "### counting in a loop\n",
    "\n",
    "count=0\n",
    "print('before',count)\n",
    "for thing in [9,41,12,3,74,15]:\n",
    "    count=count+1\n",
    "    print(count,thing)\n",
    "print('after',count)\n"
   ]
  },
  {
   "cell_type": "code",
   "execution_count": 3,
   "metadata": {},
   "outputs": [
    {
     "name": "stdout",
     "output_type": "stream",
     "text": [
      "before 0\n",
      "9 9\n",
      "50 41\n",
      "62 12\n",
      "65 3\n",
      "139 74\n",
      "154 15\n",
      "after 154\n"
     ]
    }
   ],
   "source": [
    "### summing in a loop\n",
    "\n",
    "sum=0\n",
    "print('before',sum)\n",
    "for thing in [9,41,12,3,74,15]:\n",
    "    sum=sum+thing\n",
    "    print(sum,thing)\n",
    "print('after',sum)"
   ]
  },
  {
   "cell_type": "code",
   "execution_count": 4,
   "metadata": {},
   "outputs": [
    {
     "name": "stdout",
     "output_type": "stream",
     "text": [
      "before 0 0\n",
      "1 9 9\n",
      "2 50 41\n",
      "3 62 12\n",
      "4 65 3\n",
      "5 139 74\n",
      "6 154 15\n",
      "after 6 154 25.666666666666668\n"
     ]
    }
   ],
   "source": [
    "#finding average in the loop\n",
    "\n",
    "count=0\n",
    "sum=0\n",
    "print('before',count,sum)\n",
    "\n",
    "for value in [9,41,12,3,74,15]:\n",
    "    count=count+1\n",
    "    sum=sum+value\n",
    "    print(count,sum,value)\n",
    "print('after',count,sum,sum/count)\n"
   ]
  },
  {
   "cell_type": "code",
   "execution_count": 5,
   "metadata": {},
   "outputs": [
    {
     "name": "stdout",
     "output_type": "stream",
     "text": [
      "before\n",
      "largest number 41\n",
      "largest number 74\n",
      "after\n"
     ]
    }
   ],
   "source": [
    "# Filtering in a Loop\n",
    "\n",
    "print('before')\n",
    "for value in [9,41,12,3,74,15]:\n",
    "    if value>20:\n",
    "        print('largest number',value)\n",
    "print('after')"
   ]
  },
  {
   "cell_type": "code",
   "execution_count": 9,
   "metadata": {},
   "outputs": [
    {
     "name": "stdout",
     "output_type": "stream",
     "text": [
      "before False\n",
      "False 9\n",
      "False 41\n",
      "False 12\n",
      "True 3\n",
      "True 74\n",
      "True 15\n",
      "after True\n"
     ]
    }
   ],
   "source": [
    "# Boolean is a kind of variable that either has the value either True or False\n",
    "# Search using a Boolean Variable\n",
    "\n",
    "found=False\n",
    "print('before',found)\n",
    "for value in [9,41,12,3,74,15]:\n",
    "    if value==3:\n",
    "        found=True\n",
    "    print(found,value)\n",
    "print('after',found)\n",
    "\n",
    "\n",
    "## if we just want to search & know if a value was found, we use a variable that starts at False and is set to True as\n",
    "# soon as we find what we are looking for.\n"
   ]
  },
  {
   "cell_type": "code",
   "execution_count": 2,
   "metadata": {},
   "outputs": [
    {
     "name": "stdout",
     "output_type": "stream",
     "text": [
      "before None\n",
      "9 9\n",
      "41 9\n",
      "12 9\n",
      "3 3\n",
      "74 3\n",
      "15 3\n",
      "after 3\n"
     ]
    }
   ],
   "source": [
    "# So booleans have true and false, integers have a whole bunch, and then floats have a whole bunch, and None types have one thing, None.\n",
    "# We think of it as the absence of a value. The lack of a value. \n",
    "\n",
    "\n",
    "smallest=None\n",
    "print('before',smallest)\n",
    "for value in [9,41,12,3,74,15]:\n",
    "    if smallest==None:\n",
    "        smallest=value\n",
    "    elif value<smallest:\n",
    "        smallest=value\n",
    "    print(value,smallest)\n",
    "print('after',smallest)\n",
    "\n",
    "\n"
   ]
  },
  {
   "cell_type": "code",
   "execution_count": null,
   "metadata": {},
   "outputs": [],
   "source": [
    "## is and is not operator\n",
    "#usually you're using them for a True, False, or None. So that we don't overuse is, because is, is a really, really strong equality. \n",
    "#So it's a stronger equality than double equals to, so the double equals is mathematically equal to with potential conversion.\n"
   ]
  },
  {
   "cell_type": "code",
   "execution_count": 1,
   "metadata": {},
   "outputs": [
    {
     "name": "stdout",
     "output_type": "stream",
     "text": [
      "Dry off!\n"
     ]
    }
   ],
   "source": [
    "n = 0\n",
    "while n > 0 :\n",
    "    print('Lather')\n",
    "    print('Rinse')\n",
    "print('Dry off!')"
   ]
  }
 ],
 "metadata": {
  "kernelspec": {
   "display_name": "Python 3",
   "language": "python",
   "name": "python3"
  },
  "language_info": {
   "codemirror_mode": {
    "name": "ipython",
    "version": 3
   },
   "file_extension": ".py",
   "mimetype": "text/x-python",
   "name": "python",
   "nbconvert_exporter": "python",
   "pygments_lexer": "ipython3",
   "version": "3.6.8"
  }
 },
 "nbformat": 4,
 "nbformat_minor": 2
}
