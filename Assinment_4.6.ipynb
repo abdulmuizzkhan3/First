{
 "cells": [
  {
   "cell_type": "code",
   "execution_count": 1,
   "metadata": {},
   "outputs": [
    {
     "name": "stdout",
     "output_type": "stream",
     "text": [
      "enter number of hours45\n",
      "enter hourly rate10.5\n",
      "Pay 498.75\n"
     ]
    }
   ],
   "source": [
    "#4.6 Write a program to prompt the user for hours and rate per hour using input to compute gross pay. \n",
    "#Pay should be the normal rate for hours up to 40 and time-and-a-half for the hourly rate for all hours worked above 40 hours.\n",
    "#Put the logic to do the computation of pay in a function called computepay() and use the function to do the computation. \n",
    "#The function should return a value. Use 45 hours and a rate of 10.50 per hour to test the program(the pay should be 498.75).\n",
    "#You should use input to read a string and float() to convert the string to a number.\n",
    "# Do not worry about error checking the user input unless you want to - you can assume the user types numbers properly.\n",
    "#Do not name your variable sum or use the sum() function.\n",
    "\n",
    "def computepay():\n",
    "    hours=input('enter number of hours')\n",
    "    rate=input('enter hourly rate')\n",
    "    try:\n",
    "        hrs=float(hours)\n",
    "        rate=float(rate)\n",
    "        if hrs<=40:\n",
    "            return(hrs*rate)\n",
    "        else:\n",
    "            return((40*rate)+((hrs-40)*1.5*rate))\n",
    "    except:\n",
    "        #print('please enter a numeric value')\n",
    "        return('please enter a numeric value')\n",
    "\n",
    "print('Pay',computepay())\n"
   ]
  },
  {
   "cell_type": "code",
   "execution_count": 5,
   "metadata": {},
   "outputs": [
    {
     "name": "stdout",
     "output_type": "stream",
     "text": [
      "Enter Hours:45\n",
      "Pay 472.5\n"
     ]
    }
   ],
   "source": [
    "def computepay(h,r):\n",
    "    return h*r\n",
    "hrs = input(\"Enter Hours:\")\n",
    "p = computepay(45,10.5)\n",
    "print(\"Pay\",p)\n"
   ]
  },
  {
   "cell_type": "code",
   "execution_count": 15,
   "metadata": {},
   "outputs": [
    {
     "name": "stdout",
     "output_type": "stream",
     "text": [
      "enter hours4\n",
      "enter rate6\n"
     ]
    },
    {
     "ename": "NameError",
     "evalue": "name 'h' is not defined",
     "output_type": "error",
     "traceback": [
      "\u001b[1;31m---------------------------------------------------------------------------\u001b[0m",
      "\u001b[1;31mNameError\u001b[0m                                 Traceback (most recent call last)",
      "\u001b[1;32m<ipython-input-15-b59abf655711>\u001b[0m in \u001b[0;36m<module>\u001b[1;34m\u001b[0m\n\u001b[0;32m      1\u001b[0m \u001b[1;32mdef\u001b[0m \u001b[0mcomputepay\u001b[0m\u001b[1;33m(\u001b[0m\u001b[0mh\u001b[0m\u001b[1;33m=\u001b[0m\u001b[0minput\u001b[0m\u001b[1;33m(\u001b[0m\u001b[1;34m'enter hours'\u001b[0m\u001b[1;33m)\u001b[0m\u001b[1;33m,\u001b[0m\u001b[0mr\u001b[0m\u001b[1;33m=\u001b[0m\u001b[0minput\u001b[0m\u001b[1;33m(\u001b[0m\u001b[1;34m'enter rate'\u001b[0m\u001b[1;33m)\u001b[0m\u001b[1;33m)\u001b[0m\u001b[1;33m:\u001b[0m\u001b[1;33m\u001b[0m\u001b[1;33m\u001b[0m\u001b[0m\n\u001b[0;32m      2\u001b[0m     \u001b[1;32mreturn\u001b[0m \u001b[0mh\u001b[0m\u001b[1;33m*\u001b[0m\u001b[0mr\u001b[0m\u001b[1;33m\u001b[0m\u001b[1;33m\u001b[0m\u001b[0m\n\u001b[1;32m----> 3\u001b[1;33m \u001b[0mp\u001b[0m \u001b[1;33m=\u001b[0m \u001b[0mfloat\u001b[0m\u001b[1;33m(\u001b[0m\u001b[0mcomputepay\u001b[0m\u001b[1;33m(\u001b[0m\u001b[0mh\u001b[0m\u001b[1;33m,\u001b[0m\u001b[0mr\u001b[0m\u001b[1;33m)\u001b[0m\u001b[1;33m)\u001b[0m\u001b[1;33m\u001b[0m\u001b[1;33m\u001b[0m\u001b[0m\n\u001b[0m\u001b[0;32m      4\u001b[0m \u001b[1;33m\u001b[0m\u001b[0m\n\u001b[0;32m      5\u001b[0m \u001b[0mprint\u001b[0m\u001b[1;33m(\u001b[0m\u001b[1;34m\"Pay\"\u001b[0m\u001b[1;33m,\u001b[0m\u001b[0mp\u001b[0m\u001b[1;33m)\u001b[0m\u001b[1;33m\u001b[0m\u001b[1;33m\u001b[0m\u001b[0m\n",
      "\u001b[1;31mNameError\u001b[0m: name 'h' is not defined"
     ]
    }
   ],
   "source": [
    "def computepay(h=input('enter hours'),r=input('enter rate')):\n",
    "    return h*r\n",
    "p = float(computepay(h,r))\n",
    "\n",
    "print(\"Pay\",p)"
   ]
  }
 ],
 "metadata": {
  "kernelspec": {
   "display_name": "Python 3",
   "language": "python",
   "name": "python3"
  },
  "language_info": {
   "codemirror_mode": {
    "name": "ipython",
    "version": 3
   },
   "file_extension": ".py",
   "mimetype": "text/x-python",
   "name": "python",
   "nbconvert_exporter": "python",
   "pygments_lexer": "ipython3",
   "version": "3.6.8"
  }
 },
 "nbformat": 4,
 "nbformat_minor": 2
}
