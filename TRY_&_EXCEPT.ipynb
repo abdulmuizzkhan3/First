{
 "cells": [
  {
   "cell_type": "code",
   "execution_count": 1,
   "metadata": {},
   "outputs": [
    {
     "name": "stdout",
     "output_type": "stream",
     "text": [
      "first -1\n"
     ]
    }
   ],
   "source": [
    "astr=\"hello bob\"\n",
    "try:\n",
    "    istr=int(astr)\n",
    "except:\n",
    "    istr=-1\n",
    "print(\"first\",istr)"
   ]
  },
  {
   "cell_type": "code",
   "execution_count": 15,
   "metadata": {},
   "outputs": [
    {
     "name": "stdout",
     "output_type": "stream",
     "text": [
      "SECOND 123\n"
     ]
    }
   ],
   "source": [
    "astr=\"123\"\n",
    "try:\n",
    "    istr=int(astr)\n",
    "except:\n",
    "    istr=-1\n",
    "print(\"SECOND\",istr)"
   ]
  },
  {
   "cell_type": "code",
   "execution_count": 16,
   "metadata": {},
   "outputs": [
    {
     "name": "stdout",
     "output_type": "stream",
     "text": [
      "hello\n",
      "done -1\n"
     ]
    }
   ],
   "source": [
    "astr='bob'\n",
    "try:\n",
    "    print('hello')\n",
    "    istr=int(astr)\n",
    "    print('there')\n",
    "except:\n",
    "    istr=-1\n",
    "print('done',istr)"
   ]
  },
  {
   "cell_type": "code",
   "execution_count": 17,
   "metadata": {},
   "outputs": [
    {
     "name": "stdout",
     "output_type": "stream",
     "text": [
      "enter a number:42\n",
      "nice work\n"
     ]
    }
   ],
   "source": [
    "#sample try/except (useful to avoid traceback error from user input)\n",
    "#i.e. 2 kinds of inputs may be expected (either number or in words)\n",
    "#example: 42 or Fourty two\n",
    "\n",
    "rawstr=input(\"enter a number:\")\n",
    "try:\n",
    "    ival=int(rawstr)\n",
    "except:\n",
    "    ival=-1\n",
    "\n",
    "if ival>0:\n",
    "    print('nice work')\n",
    "else:\n",
    "    print('not a number')\n",
    "    "
   ]
  }
 ],
 "metadata": {
  "kernelspec": {
   "display_name": "Python 3",
   "language": "python",
   "name": "python3"
  },
  "language_info": {
   "codemirror_mode": {
    "name": "ipython",
    "version": 3
   },
   "file_extension": ".py",
   "mimetype": "text/x-python",
   "name": "python",
   "nbconvert_exporter": "python",
   "pygments_lexer": "ipython3",
   "version": "3.6.8"
  }
 },
 "nbformat": 4,
 "nbformat_minor": 2
}
