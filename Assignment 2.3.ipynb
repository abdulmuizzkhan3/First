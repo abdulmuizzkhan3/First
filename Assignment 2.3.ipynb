{
 "cells": [
  {
   "cell_type": "code",
   "execution_count": 1,
   "metadata": {},
   "outputs": [
    {
     "name": "stdout",
     "output_type": "stream",
     "text": [
      "Enter hours:35\n",
      "Enter Rate:2.75\n",
      "Pay 96.25\n"
     ]
    }
   ],
   "source": [
    "hours=input('Enter hours:')\n",
    "rate=input('Enter Rate:')\n",
    "pay=float(hours)*float(rate)\n",
    "print('Pay',pay)"
   ]
  },
  {
   "cell_type": "code",
   "execution_count": 3,
   "metadata": {},
   "outputs": [
    {
     "name": "stdout",
     "output_type": "stream",
     "text": [
      "equals to 5\n",
      "greater than 4\n",
      "greater than or equals to 5\n",
      "less than 6\n",
      "less than or equals to 5\n",
      "not equals 6\n"
     ]
    }
   ],
   "source": [
    "#comparison operators using if statement\n",
    "x=5\n",
    "if x==5: print('equals to 5')\n",
    "if x>4: print('greater than 4')\n",
    "if x>=5:\n",
    "    print('greater than or equals to 5')\n",
    "if x<6:\n",
    "    print('less than 6')\n",
    "if x<=5:\n",
    "    print('less than or equals to 5')\n",
    "if x!=6:\n",
    "    print('not equals 6')\n",
    "\n"
   ]
  },
  {
   "cell_type": "code",
   "execution_count": null,
   "metadata": {},
   "outputs": [],
   "source": []
  }
 ],
 "metadata": {
  "kernelspec": {
   "display_name": "Python 3",
   "language": "python",
   "name": "python3"
  },
  "language_info": {
   "codemirror_mode": {
    "name": "ipython",
    "version": 3
   },
   "file_extension": ".py",
   "mimetype": "text/x-python",
   "name": "python",
   "nbconvert_exporter": "python",
   "pygments_lexer": "ipython3",
   "version": "3.6.8"
  }
 },
 "nbformat": 4,
 "nbformat_minor": 2
}
