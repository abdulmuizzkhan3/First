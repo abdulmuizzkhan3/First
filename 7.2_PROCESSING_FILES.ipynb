{
 "cells": [
  {
   "cell_type": "code",
   "execution_count": 11,
   "metadata": {},
   "outputs": [
    {
     "data": {
      "text/plain": [
       "<_io.TextIOWrapper name='C:\\\\Users\\\\Abdul Moiz\\\\Desktop\\\\words.txt' mode='r' encoding='cp1252'>"
      ]
     },
     "execution_count": 11,
     "metadata": {},
     "output_type": "execute_result"
    }
   ],
   "source": [
    "# PROCESSSING FILES IN PYTHON\n",
    "#import os\n",
    "#os.chdir(r'C:\\Users\\Abdul Moiz\\Desktop')\n",
    "open(r\"C:\\Users\\Abdul Moiz\\Desktop\\words.txt\")"
   ]
  },
  {
   "cell_type": "code",
   "execution_count": 22,
   "metadata": {},
   "outputs": [
    {
     "name": "stdout",
     "output_type": "stream",
     "text": [
      "<_io.TextIOWrapper name='words.txt' mode='r' encoding='cp1252'>\n"
     ]
    }
   ],
   "source": [
    "# PROCESSSING FILES IN PYTHON\n",
    "import os\n",
    "os.chdir(r'C:\\Users\\Abdul Moiz\\Desktop')\n",
    "x=open(\"words.txt\")\n",
    "print(x)"
   ]
  },
  {
   "cell_type": "code",
   "execution_count": 23,
   "metadata": {},
   "outputs": [
    {
     "name": "stdout",
     "output_type": "stream",
     "text": [
      "cheese=[1,3,5,7,9,11]\n",
      "\n",
      "Equity investment in microfinance is small, but growing fast. As of December 2008,\n",
      "\n",
      "there were 24 specialized microfinance equity funds with total assets of\n",
      "\n",
      "US$1.5 billion under management. Institutional investors are also showing interest in\n",
      "\n",
      "this new market niche. Leading pension funds, such as TIAA CREF in the United\n",
      "\n",
      "States and ABP in Europe, have made microfinance equity allocations of over\n",
      "\n",
      "US$100 million as part of their socially responsible investment (SRI) strategies.\n",
      "\n",
      "Others are researching the field and waiting for clearer market conditions to invest.\n",
      "\n",
      "Venture capital companies such as Sequoia and a few large private equity funds such\n",
      "\n",
      "as Legatum are testing the market with small equity investments in MFIs, with nearterm\n",
      "\n",
      "potential for an initial public offering (IPO) in key emerging markets, like India.\n"
     ]
    }
   ],
   "source": [
    "# PROCESSSING FILES IN PYTHON\n",
    "import os\n",
    "os.chdir(r'C:\\Users\\Abdul Moiz\\Desktop')\n",
    "x=open(\"words.txt\")\n",
    "for f in x:\n",
    "    print(f)"
   ]
  },
  {
   "cell_type": "code",
   "execution_count": 26,
   "metadata": {},
   "outputs": [
    {
     "name": "stdout",
     "output_type": "stream",
     "text": [
      "Lines Count: 11\n"
     ]
    }
   ],
   "source": [
    "# count lines in a file\n",
    "import os\n",
    "os.chdir(r'C:\\Users\\Abdul Moiz\\Desktop')\n",
    "x=open(\"words.txt\")\n",
    "count=0\n",
    "for line in x:\n",
    "    count=count+1\n",
    "print(\"Lines Count:\",count)"
   ]
  },
  {
   "cell_type": "code",
   "execution_count": 33,
   "metadata": {},
   "outputs": [
    {
     "name": "stdout",
     "output_type": "stream",
     "text": [
      "840\n",
      "cheese=[1,3,5,7,9,11]\n"
     ]
    }
   ],
   "source": [
    "# reading the whole file\n",
    "# count characters including \\n in a file\n",
    "import os\n",
    "os.chdir(r'C:\\Users\\Abdul Moiz\\Desktop')\n",
    "x=open(\"words.txt\")\n",
    "inp=x.read()\n",
    "print(len(inp))\n",
    "print(inp[ :21])"
   ]
  },
  {
   "cell_type": "code",
   "execution_count": 36,
   "metadata": {},
   "outputs": [
    {
     "name": "stdout",
     "output_type": "stream",
     "text": [
      "US$1.5 billion under management. Institutional investors are also showing interest in\n",
      "\n",
      "US$100 million as part of their socially responsible investment (SRI) strategies.\n",
      "\n"
     ]
    }
   ],
   "source": [
    "# searching through a file\n",
    "import os\n",
    "os.chdir(r'C:\\Users\\Abdul Moiz\\Desktop')\n",
    "fhand=open(\"words.txt\")\n",
    "for line in fhand:\n",
    "    if line.startswith('US'):\n",
    "        print(line)"
   ]
  },
  {
   "cell_type": "code",
   "execution_count": 37,
   "metadata": {},
   "outputs": [
    {
     "name": "stdout",
     "output_type": "stream",
     "text": [
      "US$1.5 billion under management. Institutional investors are also showing interest in\n",
      "US$100 million as part of their socially responsible investment (SRI) strategies.\n"
     ]
    }
   ],
   "source": [
    "# in order to fix the problem of double newline we could use rstrip\n",
    "import os\n",
    "os.chdir(r'C:\\Users\\Abdul Moiz\\Desktop')\n",
    "fhand=open(\"words.txt\")\n",
    "for line in fhand:\n",
    "    line=line.rstrip()\n",
    "    if line.startswith('US'):\n",
    "        print(line)"
   ]
  },
  {
   "cell_type": "code",
   "execution_count": 42,
   "metadata": {},
   "outputs": [
    {
     "name": "stdout",
     "output_type": "stream",
     "text": [
      "US$1.5 billion under management. Institutional investors are also showing interest in\n",
      "US$100 million as part of their socially responsible investment (SRI) strategies.\n"
     ]
    }
   ],
   "source": [
    "# in order skipping the line we are not interessted in\n",
    "import os\n",
    "os.chdir(r'C:\\Users\\Abdul Moiz\\Desktop')\n",
    "fhand=open(\"words.txt\")\n",
    "for line in fhand:\n",
    "    line=line.rstrip()\n",
    "    if not line.startswith('US'):\n",
    "        continue\n",
    "    print(line)"
   ]
  },
  {
   "cell_type": "code",
   "execution_count": 43,
   "metadata": {},
   "outputs": [
    {
     "name": "stdout",
     "output_type": "stream",
     "text": [
      "cheese=[1,3,5,7,9,11]\n",
      "Equity investment in microfinance is small, but growing fast. As of December 2008,\n",
      "there were 24 specialized microfinance equity funds with total assets of\n",
      "this new market niche. Leading pension funds, such as TIAA CREF in the United\n",
      "States and ABP in Europe, have made microfinance equity allocations of over\n",
      "Others are researching the field and waiting for clearer market conditions to invest.\n",
      "Venture capital companies such as Sequoia and a few large private equity funds such\n",
      "as Legatum are testing the market with small equity investments in MFIs, with nearterm\n",
      "potential for an initial public offering (IPO) in key emerging markets, like India.\n"
     ]
    }
   ],
   "source": [
    "# in order to flip the line starts with US we use continue\n",
    "import os\n",
    "os.chdir(r'C:\\Users\\Abdul Moiz\\Desktop')\n",
    "fhand=open(\"words.txt\")\n",
    "for line in fhand:\n",
    "    line=line.rstrip()\n",
    "    if not line.startswith('US'):\n",
    "        print(line)"
   ]
  },
  {
   "cell_type": "code",
   "execution_count": 45,
   "metadata": {},
   "outputs": [
    {
     "name": "stdout",
     "output_type": "stream",
     "text": [
      "States and ABP in Europe, have made microfinance equity allocations of over\n",
      "Others are researching the field and waiting for clearer market conditions to invest.\n",
      "Venture capital companies such as Sequoia and a few large private equity funds such\n"
     ]
    }
   ],
   "source": [
    "# using in to select the lines we are interested in\n",
    "import os\n",
    "os.chdir(r'C:\\Users\\Abdul Moiz\\Desktop')\n",
    "fhand=open(\"words.txt\")\n",
    "for line in fhand:\n",
    "    line=line.rstrip()\n",
    "    if 'and' in line:\n",
    "        print(line)\n"
   ]
  },
  {
   "cell_type": "code",
   "execution_count": 46,
   "metadata": {},
   "outputs": [
    {
     "name": "stdout",
     "output_type": "stream",
     "text": [
      "cheese=[1,3,5,7,9,11]\n",
      "Equity investment in microfinance is small, but growing fast. As of December 2008,\n",
      "there were 24 specialized microfinance equity funds with total assets of\n",
      "US$1.5 billion under management. Institutional investors are also showing interest in\n",
      "this new market niche. Leading pension funds, such as TIAA CREF in the United\n",
      "US$100 million as part of their socially responsible investment (SRI) strategies.\n",
      "as Legatum are testing the market with small equity investments in MFIs, with nearterm\n",
      "potential for an initial public offering (IPO) in key emerging markets, like India.\n"
     ]
    }
   ],
   "source": [
    "# using in to select the lines we are not interested in \n",
    "import os\n",
    "os.chdir(r'C:\\Users\\Abdul Moiz\\Desktop')\n",
    "fhand=open(\"words.txt\")\n",
    "for line in fhand:\n",
    "    line=line.rstrip()\n",
    "    if not 'and' in line:\n",
    "        print(line)"
   ]
  },
  {
   "cell_type": "code",
   "execution_count": 51,
   "metadata": {},
   "outputs": [
    {
     "name": "stdout",
     "output_type": "stream",
     "text": [
      "Enter the file name:words.txt\n",
      "There are 2 US Lines in words.txt\n"
     ]
    }
   ],
   "source": [
    "# prompt for file name\n",
    "\n",
    "import os\n",
    "os.chdir(r'C:\\Users\\Abdul Moiz\\Desktop')\n",
    "fname=input('Enter the file name:')\n",
    "fhand=open(fname)\n",
    "count=0\n",
    "for line in fhand:\n",
    "    if line.startswith('US'):\n",
    "        count=count+1\n",
    "print('There are',count,'US Lines in',fname)"
   ]
  },
  {
   "cell_type": "code",
   "execution_count": null,
   "metadata": {},
   "outputs": [],
   "source": [
    "# avoiding error because of bad files name\n",
    "import os\n",
    "os.chdir(r'C:\\Users\\Abdul Moiz\\Desktop')\n",
    "fname=input('Enter the file name:')\n",
    "try:\n",
    "    fhand=open(fname)\n",
    "    count=0\n",
    "    for line in fhand:\n",
    "        if line.startswith('US'):\n",
    "            count=count+1\n",
    "    print('There are',count,'US Lines in',fname)\n",
    "except:\n",
    "    print(\"File cannot be opened\",fname)"
   ]
  }
 ],
 "metadata": {
  "kernelspec": {
   "display_name": "Python 3",
   "language": "python",
   "name": "python3"
  },
  "language_info": {
   "codemirror_mode": {
    "name": "ipython",
    "version": 3
   },
   "file_extension": ".py",
   "mimetype": "text/x-python",
   "name": "python",
   "nbconvert_exporter": "python",
   "pygments_lexer": "ipython3",
   "version": "3.6.8"
  }
 },
 "nbformat": 4,
 "nbformat_minor": 2
}
