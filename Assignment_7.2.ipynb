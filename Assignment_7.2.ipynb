{
 "cells": [
  {
   "cell_type": "code",
   "execution_count": 24,
   "metadata": {},
   "outputs": [
    {
     "name": "stdout",
     "output_type": "stream",
     "text": [
      "Enter the file name: words\n",
      "0.8475\n",
      "0.6178\n",
      "0.6961\n",
      "0.7565\n",
      "0.7626\n",
      "0.7556\n",
      "0.7002\n",
      "0.7615\n",
      "0.7601\n",
      "0.7605\n",
      "0.6959\n",
      "0.7606\n",
      "0.7559\n",
      "0.7605\n",
      "0.6932\n",
      "0.7558\n",
      "0.6526\n",
      "0.6948\n",
      "0.6528\n",
      "0.7002\n",
      "0.7554\n",
      "0.6956\n",
      "0.6959\n",
      "0.7556\n",
      "0.9846\n",
      "0.8509\n",
      "0.9907\n",
      "0.7507185185185187\n"
     ]
    }
   ],
   "source": [
    "# 7.2 Write a program that prompts for a file name, then opens that file and reads through the file,\n",
    "# looking for lines of the form:\n",
    "#  X-DSPAM-Confidence:    0.8475\n",
    "# Count these lines and extract the floating point values from each of the lines and \n",
    "# compute the average of those values and produce an output as shown below. \n",
    "# Do not use the sum() function or a variable named sum in your solution.\n",
    "# You can download the sample data at http://www.py4e.com/code3/mbox-short.txt\n",
    "# when you are testing below enter mbox-short.txt as the file name.\n",
    "\n",
    "import os\n",
    "os.chdir(r\"C:\\Users\\Abdul Moiz\\Desktop\")\n",
    "fname=input('Enter the file name: ')\n",
    "fhand=open(fname+\".txt\")\n",
    "count=0\n",
    "s=None\n",
    "for lines in fhand:\n",
    "    if lines.startswith(\"X-DSPAM-Confidence:\"):\n",
    "        count=count+1\n",
    "        lines=float(lines[19: ].rstrip()) \n",
    "        if s is None:\n",
    "            s=lines\n",
    "        else:\n",
    "            s=s+lines\n",
    "        average=s/count\n",
    "        \n",
    "        print(lines)\n",
    "print(average)"
   ]
  },
  {
   "cell_type": "code",
   "execution_count": 26,
   "metadata": {},
   "outputs": [
    {
     "name": "stdout",
     "output_type": "stream",
     "text": [
      "Enter the file name: words\n",
      "Average spam confidence: 0.7507185185185187\n"
     ]
    }
   ],
   "source": [
    "# 7.2 Write a program that prompts for a file name, then opens that file and reads through the file,\n",
    "# looking for lines of the form:\n",
    "#  X-DSPAM-Confidence:    0.8475\n",
    "# Count these lines and extract the floating point values from each of the lines and \n",
    "# compute the average of those values and produce an output as shown below. \n",
    "# Do not use the sum() function or a variable named sum in your solution.\n",
    "# You can download the sample data at http://www.py4e.com/code3/mbox-short.txt\n",
    "# when you are testing below enter mbox-short.txt as the file name.\n",
    "\n",
    "fname=input('Enter the file name: ')\n",
    "fhand=open(\"C:/Users/Abdul Moiz/Desktop/\"+fname+\".txt\")\n",
    "count=0\n",
    "s=None\n",
    "for lines in fhand:\n",
    "    if lines.startswith(\"X-DSPAM-Confidence:\"):\n",
    "        count=count+1\n",
    "        lines=float(lines[19: ].rstrip()) \n",
    "        if s is None:\n",
    "            s=lines\n",
    "        else:\n",
    "            s=s+lines\n",
    "        average=s/count\n",
    "print(\"Average spam confidence:\",average)"
   ]
  },
  {
   "cell_type": "code",
   "execution_count": 59,
   "metadata": {},
   "outputs": [
    {
     "name": "stdout",
     "output_type": "stream",
     "text": [
      "Enter file name: words\n",
      "19\n",
      "Average spam confidence: 0.7507185185185187\n",
      "Done\n"
     ]
    }
   ],
   "source": [
    "# 7.2 Write a program that prompts for a file name, then opens that file and reads through the file,\n",
    "# looking for lines of the form:\n",
    "#  X-DSPAM-Confidence:    0.8475\n",
    "# Count these lines and extract the floating point values from each of the lines and \n",
    "# compute the average of those values and produce an output as shown below. \n",
    "# Do not use the sum() function or a variable named sum in your solution.\n",
    "# You can download the sample data at http://www.py4e.com/code3/mbox-short.txt\n",
    "# when you are testing below enter mbox-short.txt as the file name.\n",
    "\n",
    "\n",
    "\n",
    "# Use the file name mbox-short.txt as the file name\n",
    "\n",
    "import statistics\n",
    "fname = input(\"Enter file name: \")\n",
    "fh=open(\"C:/Users/Abdul Moiz/Desktop/\"+fname+\".txt\")\n",
    "count=0\n",
    "sum=0\n",
    "for line in fh:\n",
    "    if line.startswith(\"X-DSPAM-Confidence:\"):\n",
    "        count=count+1\n",
    "        line=line.rstrip()\n",
    "        position=line.find(\" \")\n",
    "        line=float(line[20: ])\n",
    "        sum=sum+line\n",
    "        average=sum/count\n",
    "print(position)\n",
    "print(\"Average spam confidence:\",average)\n",
    "print(\"Done\")\n"
   ]
  }
 ],
 "metadata": {
  "kernelspec": {
   "display_name": "Python 3",
   "language": "python",
   "name": "python3"
  },
  "language_info": {
   "codemirror_mode": {
    "name": "ipython",
    "version": 3
   },
   "file_extension": ".py",
   "mimetype": "text/x-python",
   "name": "python",
   "nbconvert_exporter": "python",
   "pygments_lexer": "ipython3",
   "version": "3.6.8"
  }
 },
 "nbformat": 4,
 "nbformat_minor": 2
}
