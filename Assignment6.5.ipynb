{
 "cells": [
  {
   "cell_type": "code",
   "execution_count": 2,
   "metadata": {},
   "outputs": [
    {
     "name": "stdout",
     "output_type": "stream",
     "text": [
      "23\n",
      "0.8475\n"
     ]
    }
   ],
   "source": [
    "# 6.5 Write code using find() and string slicing (see section 6.10) to extract the number at the end of the line below.\n",
    "# Convert the extracted value to a floating point number and print it out.\n",
    "\n",
    "text = \"X-DSPAM-Confidence:    0.8475\"\n",
    "x=text.find('0.8475')\n",
    "print(x)\n",
    "\n",
    "p=float(text[x: ])\n",
    "print(p)"
   ]
  }
 ],
 "metadata": {
  "kernelspec": {
   "display_name": "Python 3",
   "language": "python",
   "name": "python3"
  },
  "language_info": {
   "codemirror_mode": {
    "name": "ipython",
    "version": 3
   },
   "file_extension": ".py",
   "mimetype": "text/x-python",
   "name": "python",
   "nbconvert_exporter": "python",
   "pygments_lexer": "ipython3",
   "version": "3.6.8"
  }
 },
 "nbformat": 4,
 "nbformat_minor": 2
}
