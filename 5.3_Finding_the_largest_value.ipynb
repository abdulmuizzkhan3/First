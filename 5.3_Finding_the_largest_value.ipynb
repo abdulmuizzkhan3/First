{
 "cells": [
  {
   "cell_type": "code",
   "execution_count": 3,
   "metadata": {},
   "outputs": [
    {
     "name": "stdout",
     "output_type": "stream",
     "text": [
      "before -1\n",
      "9 9\n",
      "15 15\n",
      "15 5\n",
      "41 41\n",
      "41 35\n",
      "62 62\n",
      "74 74\n",
      "74 3\n",
      "74 25\n",
      "after 74\n"
     ]
    }
   ],
   "source": [
    "## in order to get the largest number from the list of numbers\n",
    "\n",
    "largest_so_far=-1\n",
    "print('before',largest_so_far)\n",
    "for the_num in [9,15,5,41,35,62,74,3,25]:\n",
    "    if the_num>largest_so_far:\n",
    "        largest_so_far=the_num\n",
    "    print(largest_so_far,the_num)\n",
    "print(\"after\",largest_so_far)"
   ]
  }
 ],
 "metadata": {
  "kernelspec": {
   "display_name": "Python 3",
   "language": "python",
   "name": "python3"
  },
  "language_info": {
   "codemirror_mode": {
    "name": "ipython",
    "version": 3
   },
   "file_extension": ".py",
   "mimetype": "text/x-python",
   "name": "python",
   "nbconvert_exporter": "python",
   "pygments_lexer": "ipython3",
   "version": "3.6.8"
  }
 },
 "nbformat": 4,
 "nbformat_minor": 2
}
