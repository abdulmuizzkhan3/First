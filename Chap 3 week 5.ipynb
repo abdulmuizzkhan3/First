{
 "cells": [
  {
   "cell_type": "code",
   "execution_count": 1,
   "metadata": {},
   "outputs": [
    {
     "name": "stdout",
     "output_type": "stream",
     "text": [
      "more than 1\n",
      "less than 100\n",
      "all done\n"
     ]
    }
   ],
   "source": [
    "#nested decisions\n",
    "x=42\n",
    "if x>1:\n",
    "    print('more than 1')\n",
    "    if x<100:\n",
    "        print('less than 100')\n",
    "print('all done')"
   ]
  },
  {
   "cell_type": "code",
   "execution_count": 3,
   "metadata": {},
   "outputs": [
    {
     "name": "stdout",
     "output_type": "stream",
     "text": [
      "smaller\n",
      "all done\n"
     ]
    }
   ],
   "source": [
    "#two way decisions\n",
    "x=1\n",
    "if x>2:\n",
    "    print('bigger')\n",
    "else:\n",
    "    print('smaller')\n",
    "print('all done')"
   ]
  },
  {
   "cell_type": "code",
   "execution_count": 5,
   "metadata": {},
   "outputs": [
    {
     "name": "stdout",
     "output_type": "stream",
     "text": [
      "bigger than 2\n",
      "still bigger\n",
      "done with 2\n",
      "0\n",
      "done with 0\n",
      "1\n",
      "done with 1\n",
      "2\n",
      "done with 2\n",
      "3\n",
      "bigger than 2\n",
      "done with 3\n",
      "4\n",
      "bigger than 2\n",
      "done with 4\n",
      "all done\n"
     ]
    }
   ],
   "source": [
    "x=5\n",
    "if x>2:\n",
    "    print('bigger than 2')\n",
    "    print('still bigger')\n",
    "print('done with 2')\n",
    "\n",
    "for i in range(5):\n",
    "    print(i)\n",
    "    if i>2:\n",
    "        print('bigger than 2')\n",
    "    print('done with i',i)\n",
    "print('all done')"
   ]
  },
  {
   "cell_type": "code",
   "execution_count": 6,
   "metadata": {},
   "outputs": [
    {
     "name": "stdout",
     "output_type": "stream",
     "text": [
      "smaller\n",
      "all done\n"
     ]
    }
   ],
   "source": [
    "#it's only going to do one. And it checks these questions in order.\n",
    "x=0\n",
    "if x<2:\n",
    "    print('smaller')\n",
    "elif x<10:\n",
    "    print('medium')\n",
    "else:\n",
    "    print('larger')\n",
    "print('all done')"
   ]
  },
  {
   "cell_type": "code",
   "execution_count": 7,
   "metadata": {},
   "outputs": [
    {
     "name": "stdout",
     "output_type": "stream",
     "text": [
      "medium\n",
      "all done\n"
     ]
    }
   ],
   "source": [
    "x=9\n",
    "if x<2:\n",
    "    print('smaller')\n",
    "elif x<10:\n",
    "    print('medium')\n",
    "else:\n",
    "    print('larger')\n",
    "print('all done')"
   ]
  },
  {
   "cell_type": "code",
   "execution_count": 8,
   "metadata": {},
   "outputs": [
    {
     "name": "stdout",
     "output_type": "stream",
     "text": [
      "larger\n",
      "all done\n"
     ]
    }
   ],
   "source": [
    "#The rule is one of the three will run, and the other two will not. It only triggers once.\n",
    "#Once it's triggered, then it's done with the whole if statement. \n",
    "x=100\n",
    "if x<2:\n",
    "    print('smaller')\n",
    "elif x<10:\n",
    "    print('medium')\n",
    "else:\n",
    "    print('larger')\n",
    "print('all done')"
   ]
  },
  {
   "cell_type": "code",
   "execution_count": 10,
   "metadata": {},
   "outputs": [
    {
     "name": "stdout",
     "output_type": "stream",
     "text": [
      "big\n"
     ]
    }
   ],
   "source": [
    "#Further, you can have lots of elifs. If x is less than 2, do this, elif, elif, elif, elif, elif.\n",
    "# And remember, it checks them in order, first, second, third, fourth, fifth.\n",
    "x=15\n",
    "if x<2:\n",
    "    print('small')\n",
    "elif x<10:\n",
    "    print('medium')\n",
    "elif x<20:\n",
    "    print('big')\n",
    "elif x<40:\n",
    "    print('large')\n",
    "elif x<100:\n",
    "    print('huge')\n",
    "else:\n",
    "    print('ginormous')"
   ]
  }
 ],
 "metadata": {
  "kernelspec": {
   "display_name": "Python 3",
   "language": "python",
   "name": "python3"
  },
  "language_info": {
   "codemirror_mode": {
    "name": "ipython",
    "version": 3
   },
   "file_extension": ".py",
   "mimetype": "text/x-python",
   "name": "python",
   "nbconvert_exporter": "python",
   "pygments_lexer": "ipython3",
   "version": "3.6.8"
  }
 },
 "nbformat": 4,
 "nbformat_minor": 2
}
