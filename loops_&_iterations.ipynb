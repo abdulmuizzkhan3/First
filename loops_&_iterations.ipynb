{
 "cells": [
  {
   "cell_type": "code",
   "execution_count": 1,
   "metadata": {},
   "outputs": [
    {
     "name": "stdout",
     "output_type": "stream",
     "text": [
      "5\n",
      "4\n",
      "3\n",
      "2\n",
      "1\n",
      "blastoff\n",
      "0\n"
     ]
    }
   ],
   "source": [
    "# while loop\n",
    "# With the while loop we can execute a set of statements as long as a condition is true.\n",
    "\n",
    "n=5\n",
    "while n>0:\n",
    "    print(n)\n",
    "    n=n-1\n",
    "print('blastoff')\n",
    "print(n)"
   ]
  },
  {
   "cell_type": "code",
   "execution_count": null,
   "metadata": {},
   "outputs": [],
   "source": [
    "# when we doesnot change the value in the while loop, it runs forever and becomes an infinite loop.\n",
    "# INFINITE LOOP\n",
    "# The technical problem in this is 'n' doesn't changes\n",
    "# And that will literally run until your computer's battery runs out or you unplug it or you hit some escape or whatever.\n",
    "\n",
    "\n",
    "n=5\n",
    "while n>0:\n",
    "    print('Lather')\n",
    "    print('Rinse')\n",
    "print('Dry off')"
   ]
  },
  {
   "cell_type": "code",
   "execution_count": 2,
   "metadata": {},
   "outputs": [
    {
     "name": "stdout",
     "output_type": "stream",
     "text": [
      "> hello there\n",
      "hello there\n",
      "> finished\n",
      "finished\n",
      "> done\n",
      "Done\n"
     ]
    }
   ],
   "source": [
    "# Breaking out of the loop.\n",
    "# break statement\n",
    "# It gets out of that loop block, the block of code that is the loop.\n",
    "\n",
    "# the following program asks us for input value until we input done.\n",
    "\n",
    "while True:\n",
    "    line=input('> ')\n",
    "    if line=='done':\n",
    "        break\n",
    "    print(line)\n",
    "print('Done')"
   ]
  },
  {
   "cell_type": "code",
   "execution_count": 3,
   "metadata": {},
   "outputs": [
    {
     "name": "stdout",
     "output_type": "stream",
     "text": [
      "> hello there\n",
      "hello there\n",
      "> # don't print this\n",
      "> print this\n",
      "print this\n",
      "> done\n",
      "Done\n"
     ]
    }
   ],
   "source": [
    "# The other statement that does something like this is the continue. \n",
    "# And so continue basically says quit on the current iteration and go to the next iteration.\n",
    "# So it skips out of the loop, but it doesn't skip to the line beyond it, it skips back up to the top. \n",
    "# So continue says, oh, we're going to go up to the top.\n",
    "# Break says get out and continue says don't do the rest of this iteration but go up and do the next iteration. \n",
    "# this one that has pound sign as the first character, we skip back to the beginning of the loop. \n",
    "\n",
    "while True:\n",
    "    line=input('> ')\n",
    "    if line[0] =='#':\n",
    "        continue\n",
    "    if line=='done':\n",
    "        break\n",
    "    print(line)\n",
    "print('Done')\n",
    "\n",
    "\n",
    "# So break skips out of the loop and continue skips to the top of the loop.\n",
    "# So these while loops are kind of indefinite. You can construct them cleverly. \n",
    "# They just go and go and go until some logic or condition becomes false. \n",
    "\n",
    "\n"
   ]
  }
 ],
 "metadata": {
  "kernelspec": {
   "display_name": "Python 3",
   "language": "python",
   "name": "python3"
  },
  "language_info": {
   "codemirror_mode": {
    "name": "ipython",
    "version": 3
   },
   "file_extension": ".py",
   "mimetype": "text/x-python",
   "name": "python",
   "nbconvert_exporter": "python",
   "pygments_lexer": "ipython3",
   "version": "3.6.8"
  }
 },
 "nbformat": 4,
 "nbformat_minor": 2
}
