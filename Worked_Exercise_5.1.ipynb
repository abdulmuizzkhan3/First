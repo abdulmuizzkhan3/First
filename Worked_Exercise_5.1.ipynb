{
 "cells": [
  {
   "cell_type": "code",
   "execution_count": 1,
   "metadata": {},
   "outputs": [
    {
     "name": "stdout",
     "output_type": "stream",
     "text": [
      "Enter the number: 6\n",
      "6.0\n",
      "Enter the number: 7\n",
      "7.0\n",
      "Enter the number: done\n",
      "2 13.0 6.5\n"
     ]
    }
   ],
   "source": [
    "## Write a program which repeatedly reads the number until the user enters \"done\".\n",
    "#  Once \"done\" is entered print out the total, count and average of the number.\n",
    "# If the user enters anything other then the number, detect their mistake using try and except and print an error message and skips to the next number.\n",
    "\n",
    "count=0\n",
    "sum=0\n",
    "while True:\n",
    "    value=input('Enter the number: ')\n",
    "    if value =='done':\n",
    "        break\n",
    "    try:\n",
    "        num=float(value)\n",
    "        print(num)\n",
    "        count=count+1\n",
    "        sum=sum+num\n",
    "    except:\n",
    "        print('Invalid Input')\n",
    "        continue\n",
    "print(count,sum,sum/count)\n",
    "    "
   ]
  },
  {
   "cell_type": "code",
   "execution_count": 2,
   "metadata": {},
   "outputs": [
    {
     "name": "stdout",
     "output_type": "stream",
     "text": [
      "Enter the number: 78\n",
      "78.0\n",
      "Enter the number: 99\n",
      "99.0\n",
      "Enter the number: uur\n",
      "Invalid Input\n",
      "Enter the number: 78\n",
      "78.0\n",
      "Enter the number: 99\n",
      "99.0\n",
      "Enter the number: done\n",
      "4 354.0 88.5\n"
     ]
    }
   ],
   "source": [
    "count=0\n",
    "sum=0\n",
    "while True:\n",
    "    value=input('Enter the number: ')\n",
    "    if value =='done':\n",
    "        break\n",
    "    try:\n",
    "        num=float(value)\n",
    "        print(num)\n",
    "        count=count+1\n",
    "        sum=sum+num\n",
    "    except:\n",
    "        print('Invalid Input')\n",
    "        continue\n",
    "print(count,sum,sum/count)"
   ]
  }
 ],
 "metadata": {
  "kernelspec": {
   "display_name": "Python 3",
   "language": "python",
   "name": "python3"
  },
  "language_info": {
   "codemirror_mode": {
    "name": "ipython",
    "version": 3
   },
   "file_extension": ".py",
   "mimetype": "text/x-python",
   "name": "python",
   "nbconvert_exporter": "python",
   "pygments_lexer": "ipython3",
   "version": "3.6.8"
  }
 },
 "nbformat": 4,
 "nbformat_minor": 2
}
