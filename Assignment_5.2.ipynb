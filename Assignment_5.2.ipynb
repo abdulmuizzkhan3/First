{
 "cells": [
  {
   "cell_type": "code",
   "execution_count": 4,
   "metadata": {},
   "outputs": [
    {
     "name": "stdout",
     "output_type": "stream",
     "text": [
      "Please enter a Number:7\n",
      "7.0\n",
      "Please enter a Number:70\n",
      "70.0\n",
      "Please enter a Number:89\n",
      "89.0\n",
      "Please enter a Number:95\n",
      "95.0\n",
      "Please enter a Number:bob\n",
      "Invalid Input\n",
      "Please enter a Number:p\n",
      "Invalid Input\n",
      "Please enter a Number:done\n",
      "7.0 95.0\n"
     ]
    }
   ],
   "source": [
    "# 5.2 Write a program that repeatedly prompts a user for integer numbers until the user enters 'done'.\n",
    "# Once 'done' is entered, print out the largest and smallest of the numbers. \n",
    "# If the user enters anything other than a valid number catch it with a try/except \n",
    "# and put out an appropriate message and ignore the number. \n",
    "# Enter 7, 2, bob, 10, and 4 and match the output below.\n",
    "\n",
    "largest= None\n",
    "smallest= None\n",
    "while True:\n",
    "    value=input('Please enter a Number:')\n",
    "    if value=='done':\n",
    "        break\n",
    "    try:\n",
    "        num=float(value)\n",
    "        print(num)\n",
    "        list=[num]\n",
    "        for n in list:\n",
    "            if smallest is None:\n",
    "                smallest=n\n",
    "            elif n<smallest:\n",
    "                smallest=n\n",
    "        #print(n,smallest)\n",
    "        \n",
    "        for n in list:\n",
    "            if largest is None:\n",
    "                largest=n\n",
    "            elif n>largest:\n",
    "                largest=n\n",
    "        #print(n,largest)\n",
    "    except:\n",
    "        print('Invalid Input')\n",
    "        \n",
    "print(smallest,largest)"
   ]
  },
  {
   "cell_type": "code",
   "execution_count": null,
   "metadata": {},
   "outputs": [],
   "source": [
    "largest = None\n",
    "smallest = None\n",
    "while True:\n",
    "    num = input(\"Enter a number: \")\n",
    "    if num == \"done\" : break\n",
    "    print(num)\n",
    "\n",
    "print(\"Maximum\", largest)"
   ]
  },
  {
   "cell_type": "code",
   "execution_count": 6,
   "metadata": {},
   "outputs": [
    {
     "name": "stdout",
     "output_type": "stream",
     "text": [
      "Please enter a Number:7\n",
      "Please enter a Number:2\n",
      "Please enter a Number:bob\n",
      "Invalid input\n",
      "Please enter a Number:10\n",
      "Please enter a Number:4\n",
      "Please enter a Number:done\n",
      "[4]\n",
      "Maximum is 10\n",
      "Minimum is 2\n"
     ]
    }
   ],
   "source": [
    "# Final\n",
    "largest= None\n",
    "smallest= None\n",
    "while True:\n",
    "    value=input('Please enter a Number:')\n",
    "    if value=='done':\n",
    "        break\n",
    "    try:\n",
    "        num=int(value)\n",
    "        #print(num)\n",
    "        list=[num]\n",
    "        for n in list:\n",
    "            if smallest is None:\n",
    "                smallest=n\n",
    "            elif n<smallest:\n",
    "                smallest=n\n",
    "        #print(n,smallest)\n",
    "        \n",
    "        for n in list:\n",
    "            if largest is None:\n",
    "                largest=n\n",
    "            elif n>largest:\n",
    "                largest=n\n",
    "        #print(n,largest)\n",
    "    except:\n",
    "        print('Invalid input')\n",
    "print(list)        \n",
    "print('Maximum is',largest)\n",
    "print('Minimum is',smallest)"
   ]
  }
 ],
 "metadata": {
  "kernelspec": {
   "display_name": "Python 3",
   "language": "python",
   "name": "python3"
  },
  "language_info": {
   "codemirror_mode": {
    "name": "ipython",
    "version": 3
   },
   "file_extension": ".py",
   "mimetype": "text/x-python",
   "name": "python",
   "nbconvert_exporter": "python",
   "pygments_lexer": "ipython3",
   "version": "3.6.8"
  }
 },
 "nbformat": 4,
 "nbformat_minor": 2
}
