{
 "cells": [
  {
   "cell_type": "markdown",
   "metadata": {},
   "source": [
    "# Taking input from the user and apeend them in list and finding sum,min,max,count,average.\n",
    "numlist=list()\n",
    "while True:\n",
    "    number=input(\"enter a number:\")\n",
    "    if number=='done':\n",
    "        print('All done')\n",
    "        break\n",
    "    else:\n",
    "        number=float(number)\n",
    "        numlist.append(number)\n",
    "        print(numlist)\n",
    "        minimum=min(numlist)\n",
    "        print('minimum=',minimum)\n",
    "        maximum=max(numlist)\n",
    "        print('maximum=',maximum)\n",
    "        count=len(numlist)\n",
    "        print('count=',count)\n",
    "        sum=sum(numlist)\n",
    "        print('sum=',sum)\n",
    "        average=sum/count\n",
    "        print('average=',average)"
   ]
  },
  {
   "cell_type": "code",
   "execution_count": 3,
   "metadata": {},
   "outputs": [
    {
     "name": "stdout",
     "output_type": "stream",
     "text": [
      "enter a number:3\n",
      "enter a number:5\n",
      "enter a number:9\n",
      "enter a number:done\n",
      "All done\n",
      "[3.0, 5.0, 9.0]\n",
      "minimum= 3.0\n",
      "maximum= 9.0\n",
      "count= 3\n",
      "sum= 17.0\n",
      "average= 5.666666666666667\n"
     ]
    }
   ],
   "source": [
    "# Taking input from the user and apeend them in list and finding sum,min,max,count,average.\n",
    "numlist=list()\n",
    "while True:\n",
    "    number=input(\"enter a number:\")\n",
    "    if number=='done':\n",
    "        print('All done')\n",
    "        break\n",
    "    n=float(number)\n",
    "    numlist.append(n)\n",
    "print(numlist)\n",
    "minimum=min(numlist)\n",
    "print('minimum=',minimum)\n",
    "maximum=max(numlist)\n",
    "print('maximum=',maximum)\n",
    "count=len(numlist)\n",
    "print('count=',count)\n",
    "total=sum(numlist)\n",
    "print('sum=',total)\n",
    "average=total/count\n",
    "print('average=',average)\n",
    "    "
   ]
  },
  {
   "cell_type": "code",
   "execution_count": 4,
   "metadata": {},
   "outputs": [
    {
     "name": "stdout",
     "output_type": "stream",
     "text": [
      "Please enter a Number:1\n",
      "Please enter a Number:3\n",
      "Please enter a Number:5\n",
      "Please enter a Number:7\n",
      "Please enter a Number:9\n",
      "Please enter a Number:11\n",
      "Please enter a Number:13\n",
      "Please enter a Number:done\n",
      "[1, 3, 5, 7, 9, 11, 13]\n",
      "Maximum is 13\n",
      "Minimum is 1\n"
     ]
    }
   ],
   "source": [
    "# If you want to only include actual numbers in the list, you can use the below:\n",
    "\n",
    "largest= None\n",
    "smallest= None\n",
    "list=[]\n",
    "while True:\n",
    "    value=input('Please enter a Number:')\n",
    "    if value=='done':\n",
    "        break\n",
    "    try:\n",
    "        num=int(value)\n",
    "        #print(num)\n",
    "        list.append(num)\n",
    "        for n in list:\n",
    "            if smallest is None:\n",
    "                smallest=n\n",
    "            elif n<smallest:\n",
    "                smallest=n\n",
    "        #print(n,smallest)\n",
    "\n",
    "        for n in list:\n",
    "            if largest is None:\n",
    "                largest=n\n",
    "            elif n>largest:\n",
    "                largest=n\n",
    "        #print(n,largest)\n",
    "\n",
    "    except:\n",
    "        print('Invalid input')\n",
    "print(list)\n",
    "print('Maximum is',largest)\n",
    "print('Minimum is',smallest)\n",
    "\n"
   ]
  },
  {
   "cell_type": "code",
   "execution_count": 5,
   "metadata": {},
   "outputs": [
    {
     "name": "stdout",
     "output_type": "stream",
     "text": [
      "Please enter a Number:2\n",
      "Please enter a Number:4\n",
      "Please enter a Number:6\n",
      "Please enter a Number:8\n",
      "Please enter a Number:10\n",
      "Please enter a Number:12\n",
      "Please enter a Number:14\n",
      "Please enter a Number:16\n",
      "Please enter a Number:18\n",
      "Please enter a Number:20\n",
      "Please enter a Number:done\n",
      "['2', '4', '6', '8', '10', '12', '14', '16', '18', '20', 'done']\n",
      "Maximum is 8\n",
      "Minimum is 10\n"
     ]
    }
   ],
   "source": [
    "# OR if you want to include all user response in a list, use the  below:\n",
    "\n",
    "largest= None\n",
    "smallest= None\n",
    "list=[]\n",
    "while True:\n",
    "    value=input('Please enter a Number:')\n",
    "    list.append(value)\n",
    "    if value=='done':\n",
    "        break\n",
    "    try:\n",
    "        num=int(value)\n",
    "        #print(num)\n",
    "        for n in list:\n",
    "            if smallest is None:\n",
    "                smallest=n\n",
    "            elif n<smallest:\n",
    "                smallest=n\n",
    "        #print(n,smallest)\n",
    "\n",
    "        for n in list:\n",
    "            if largest is None:\n",
    "                largest=n\n",
    "            elif n>largest:\n",
    "                largest=n\n",
    "        #print(n,largest)\n",
    "\n",
    "    except:\n",
    "        print('Invalid input')\n",
    "print(list)\n",
    "print('Maximum is',largest)\n",
    "print('Minimum is',smallest)\n"
   ]
  }
 ],
 "metadata": {
  "kernelspec": {
   "display_name": "Python 3",
   "language": "python",
   "name": "python3"
  },
  "language_info": {
   "codemirror_mode": {
    "name": "ipython",
    "version": 3
   },
   "file_extension": ".py",
   "mimetype": "text/x-python",
   "name": "python",
   "nbconvert_exporter": "python",
   "pygments_lexer": "ipython3",
   "version": "3.6.8"
  }
 },
 "nbformat": 4,
 "nbformat_minor": 2
}
